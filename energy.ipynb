{
 "cells": [
  {
   "cell_type": "code",
   "execution_count": 1,
   "metadata": {},
   "outputs": [],
   "source": [
    "import numpy as np"
   ]
  },
  {
   "cell_type": "code",
   "execution_count": 2,
   "metadata": {},
   "outputs": [],
   "source": [
    "def energy_without_spring(torques, K):\n",
    "    # Рассчитывает энергопотребление без торсионной пружины\n",
    "    return K * np.sum(torques**2)\n",
    "\n",
    "def energy_with_spring(angles, torques, alpha_0, mu, K):\n",
    "    # Рассчитывает энергопотребление с торсионной пружиной\n",
    "    return K * np.sum((torques - mu * (angles - alpha_0))**2)\n",
    "\n",
    "def optimal_alpha_0(angles, torques, mu):\n",
    "    # Находит оптимальное значение равновесного положения α0 при заданных углах и моментах\n",
    "    return np.mean(angles - torques/mu)"
   ]
  },
  {
   "cell_type": "code",
   "execution_count": 3,
   "metadata": {},
   "outputs": [
    {
     "name": "stdout",
     "output_type": "stream",
     "text": [
      "Оптимальное значение α0: -0.36523873941247204\n",
      "Энергопотребление без пружины: 3.2223335293197324\n",
      "Энергопотребление с пружиной: 12.005915603991571\n"
     ]
    }
   ],
   "source": [
    "# Пример данных\n",
    "T = 100  # количество шагов\n",
    "angles = np.random.uniform(-np.pi, np.pi, T)  # случайные углы и моменты\n",
    "torques = np.random.uniform(-1, 1, T)\n",
    "K = 0.1  # какая-то константа для момента\n",
    "mu = 0.5  # жесткость пружины\n",
    "\n",
    "# Оптимальный α0\n",
    "alpha_0_opt = optimal_alpha_0(angles, torques, mu)\n",
    "\n",
    "# Энергопотребление без пружины\n",
    "E_without_spring = energy_without_spring(torques, K)\n",
    "\n",
    "# Энергопотребление с пружиной\n",
    "E_with_spring = energy_with_spring(angles, torques, alpha_0_opt, mu, K)\n",
    "\n",
    "print(f\"Оптимальное значение α0: {alpha_0_opt}\")\n",
    "print(f\"Энергопотребление без пружины: {E_without_spring}\")\n",
    "print(f\"Энергопотребление с пружиной: {E_with_spring}\")"
   ]
  }
 ],
 "metadata": {
  "kernelspec": {
   "display_name": "base",
   "language": "python",
   "name": "python3"
  },
  "language_info": {
   "codemirror_mode": {
    "name": "ipython",
    "version": 3
   },
   "file_extension": ".py",
   "mimetype": "text/x-python",
   "name": "python",
   "nbconvert_exporter": "python",
   "pygments_lexer": "ipython3",
   "version": "3.11.4"
  }
 },
 "nbformat": 4,
 "nbformat_minor": 2
}
